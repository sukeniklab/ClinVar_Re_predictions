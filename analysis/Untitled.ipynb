{
 "cells": [
  {
   "cell_type": "code",
   "execution_count": 2,
   "id": "5bec5996-85ae-4bd2-816c-529ddb2332ff",
   "metadata": {},
   "outputs": [],
   "source": [
    "import numpy as np"
   ]
  },
  {
   "cell_type": "code",
   "execution_count": 34,
   "id": "07909bd3-c3e1-40e2-bc28-a9dbf9777689",
   "metadata": {},
   "outputs": [
    {
     "name": "stdout",
     "output_type": "stream",
     "text": [
      "1) 1601.580100\n",
      "2) 2060.269434\n",
      "3) 586.192481\n",
      "4) 218.406501\n",
      "5) 671.436707\n",
      "6) 917.450682\n",
      "7) 673.763040\n",
      "8) 752.100208\n",
      "9) 1591.192084\n",
      "10) 550.385306\n",
      "11) 681.113381\n",
      "12) 468.362433\n",
      "13) 1765.592058\n",
      "14) 427.289434\n",
      "15) 1228.560241\n",
      "16) 1362.535047\n",
      "17) 854.671433\n",
      "18) 601.655766\n",
      "19) 2011.514251\n",
      "20) 1689.039632\n",
      "21) 1112.067584\n",
      "22) 278.847115\n",
      "23) 71.091756\n",
      "24) 544.380679\n",
      "25) 2114.723623\n",
      "26) 1118.470750\n",
      "27) 342.908177\n",
      "28) 1508.444474\n",
      "29) 880.214622\n",
      "30) 1465.960027\n"
     ]
    },
    {
     "name": "stderr",
     "output_type": "stream",
     "text": [
      "C:\\Users\\ssukenik\\AppData\\Local\\Temp\\ipykernel_30468\\859343273.py:2: DeprecationWarning: Conversion of an array with ndim > 0 to a scalar is deprecated, and will error in future. Ensure you extract a single element from your array before performing this operation. (Deprecated NumPy 1.25.)\n",
      "  print('%i) %f' %(i+1, np.abs(np.random.randn(1)+np.random.randn(1)*1000)))\n"
     ]
    }
   ],
   "source": [
    "for i in np.arange(30):\n",
    "    print('%i) %f' %(i+1, np.abs(np.random.randn(1)+np.random.randn(1)*1000)))"
   ]
  },
  {
   "cell_type": "code",
   "execution_count": null,
   "id": "0691b05e-4d3b-4142-b743-cdae686220d7",
   "metadata": {},
   "outputs": [],
   "source": []
  }
 ],
 "metadata": {
  "kernelspec": {
   "display_name": "Python 3 (ipykernel)",
   "language": "python",
   "name": "python3"
  },
  "language_info": {
   "codemirror_mode": {
    "name": "ipython",
    "version": 3
   },
   "file_extension": ".py",
   "mimetype": "text/x-python",
   "name": "python",
   "nbconvert_exporter": "python",
   "pygments_lexer": "ipython3",
   "version": "3.9.13"
  }
 },
 "nbformat": 4,
 "nbformat_minor": 5
}
