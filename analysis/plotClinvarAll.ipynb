{
 "cells": [
  {
   "cell_type": "markdown",
   "id": "af4bc2f4-5721-4334-b349-f45bac7f9c8c",
   "metadata": {
    "tags": []
   },
   "source": [
    "# import data"
   ]
  },
  {
   "cell_type": "code",
   "execution_count": 185,
   "id": "2316f9fe-4c22-4cbd-bd12-cb2b687fdbd9",
   "metadata": {
    "tags": []
   },
   "outputs": [],
   "source": [
    "import pandas as pd\n",
    "import matplotlib.pyplot as plt\n",
    "import matplotlib\n",
    "import seaborn as sns\n",
    "import numpy as np \n",
    "import scipy\n",
    "from scipy.stats import kstest, false_discovery_control\n",
    "\n",
    "plt.rcParams.update({'font.size': 24})\n",
    "\n",
    "# Clinvar analysis output\n",
    "data = pd.read_csv('../data/allClinvarMissense.csv',header=0,index_col=0)"
   ]
  },
  {
   "cell_type": "markdown",
   "id": "3ccefd6e-6b45-4787-8854-ff002902eed7",
   "metadata": {},
   "source": [
    "# cleanup"
   ]
  },
  {
   "cell_type": "markdown",
   "id": "81515b3d",
   "metadata": {},
   "source": [
    "### Disease significance"
   ]
  },
  {
   "cell_type": "code",
   "execution_count": 186,
   "id": "e1bce4bf-9768-460c-966b-79643da4721c",
   "metadata": {
    "tags": []
   },
   "outputs": [],
   "source": [
    "data['class']='none'\n",
    "data['disease_associated']='NO'\n",
    "data.loc[~data['disease'].str.contains('not'),'disease_associated']='YES'\n",
    "data['significance']=data['signi']\n",
    "data.loc[data['signi'].str.contains('Benign|benign'),'significance']='Likely_benign'\n",
    "data.loc[data['signi'].str.contains('Conflicting'),'significance']='Unknown_significance'\n",
    "data.loc[data['signi'].str.contains(r'uncertain',case=False),'significance']='Unknown_significance'\n",
    "data.loc[data['signi'].str.contains(r'pathogenic|risk',case=False),'significance']='Likely_pathogenic'\n",
    "data.loc[data['signi'].str.contains(r'other|protective|drug|not_provided|Affects|sensitivity|unflagged|association',case=False),'significance']='Not_provided'"
   ]
  },
  {
   "cell_type": "markdown",
   "id": "e0b9f317",
   "metadata": {},
   "source": [
    "### Mutation type and disorder"
   ]
  },
  {
   "cell_type": "code",
   "execution_count": 187,
   "id": "d45cdf1d",
   "metadata": {},
   "outputs": [],
   "source": [
    "data['more_pos']='NO'\n",
    "data['more_neg']='NO'\n",
    "data.loc[data['changeType'].str.contains('neg>|>pos'),'more_pos']='YES'\n",
    "data.loc[data['changeType'].str.contains('>neg|pos>'),'more_neg']='YES'\n",
    "data['resDisordered']='ND'\n",
    "data.loc[data['res_disorder']>0.7,'resDisordered']='YES'\n",
    "data.loc[data['res_disorder']<0.3,'resDisordered']='NO'"
   ]
  },
  {
   "cell_type": "markdown",
   "id": "dbd138cf",
   "metadata": {},
   "source": [
    "### Mutation review status"
   ]
  },
  {
   "cell_type": "code",
   "execution_count": 188,
   "id": "3c17ca1c",
   "metadata": {},
   "outputs": [],
   "source": [
    "data['rev_star']=0\n",
    "data.loc[data['revstat'].str.contains('single_submitter|conflicting_classifications'),'rev_star']=1\n",
    "data.loc[data['revstat'].str.contains('multiple_submitters'),'rev_star']=2\n",
    "data.loc[data['revstat'].str.contains('expert_panel'),'rev_star']=3\n",
    "data.loc[data['revstat'].str.contains('guideline'),'rev_star']=3\n",
    "# filter out all 0-star clinvar entires\n",
    "data=data[data['rev_star']>0]"
   ]
  },
  {
   "cell_type": "markdown",
   "id": "7c52fc55",
   "metadata": {},
   "source": [
    "### FDR-adjusted p-values"
   ]
  },
  {
   "cell_type": "code",
   "execution_count": 189,
   "id": "4349d396-1d14-4e76-8d9a-657b1ea38d8d",
   "metadata": {},
   "outputs": [],
   "source": [
    "pval_cols = data.columns[data.columns.str.contains('pval')]\n",
    "data[pval_cols]=data[pval_cols].fillna(1)\n",
    "for i in pval_cols:\n",
    "    data[i+'_adj'] = -np.log10(scipy.stats.false_discovery_control(np.power(10,-data[i])))\n"
   ]
  },
  {
   "cell_type": "markdown",
   "id": "df285b06-1da8-4b66-8417-b66ab80c6688",
   "metadata": {},
   "source": [
    "# mutation counts"
   ]
  },
  {
   "cell_type": "code",
   "execution_count": 190,
   "id": "52d0fca6-797e-40af-91c9-38046eeadd07",
   "metadata": {
    "tags": []
   },
   "outputs": [
    {
     "name": "stdout",
     "output_type": "stream",
     "text": [
      "total proteins in dataset: 19968\n",
      "total variants in IDRs / all / ratio: 274448 / 955146 / 0.29\n",
      "ratio of disease associated variants in IDRs / all: 0.25 / 0.29\n",
      "ratio of VUSs in IDRs / all: 0.847 / 0.858\n",
      "total variants that expand/compact/do nothing in IDRs: 101783 / 117179 / 55486\n",
      "total number of variants that change ensemble: 218962 in 14157 proteins\n"
     ]
    }
   ],
   "source": [
    "N_all_prots = data[['upID','N_res','N_disordered']].drop_duplicates().shape[0]\n",
    "N_all = data.shape[0]\n",
    "N_all_diseaseAssociated = data[data['disease_associated']=='YES'].shape[0]\n",
    "N_all_unknownSig = data[data['significance']=='Unknown_significance'].shape[0]\n",
    "N_IDR = data[data['resDisordered']=='YES'].shape[0]\n",
    "N_IDR_diseaseAssociated = data[(data['resDisordered']=='YES')&(data['disease_associated']=='YES')].shape[0]\n",
    "N_IDR_unknownSig = data[(data['resDisordered']=='YES')&(data['significance']=='Unknown_significance')].shape[0]\n",
    "N_expand = data[(data['resDisordered']=='YES')&(data['mut_vs_wt_Re_logFC_30']>0)&(data['mut_vs_wt_Re_pval_30_adj']>1.3)].shape[0]\n",
    "N_compact = data[(data['resDisordered']=='YES')&(data['mut_vs_wt_Re_logFC_30']<0)&(data['mut_vs_wt_Re_pval_30_adj']>1.3)].shape[0]\n",
    "N_nochange = data[(data['resDisordered']=='YES')&(data['mut_vs_wt_Re_pval_30_adj']<1.3)].shape[0]\n",
    "N_Re_change = data[(data['resDisordered']=='YES')&(data['mut_vs_wt_Re_pval_30_adj']>1.3)].shape[0]\n",
    "N_Re_change_prots = data[(data['resDisordered']=='YES')&(data['mut_vs_wt_Re_pval_30_adj']>1.3)]['upID'].unique().shape[0]\n",
    "print('total proteins in dataset: %i' % N_all_prots)\n",
    "print('total variants in IDRs / all / ratio: %i / %i / %.2f' % (N_IDR,N_all,N_IDR/N_all))\n",
    "print('ratio of disease associated variants in IDRs / all: %.2f / %.2f'%\n",
    "      (N_IDR_diseaseAssociated/N_IDR,N_all_diseaseAssociated/N_all))\n",
    "print('ratio of VUSs in IDRs / all: %.3f / %.3f' % \n",
    "      (N_IDR_unknownSig/N_IDR,N_all_unknownSig/N_all))\n",
    "print('total variants that expand/compact/do nothing in IDRs: %i / %i / %i' % \n",
    "      (N_expand,N_compact,N_nochange))\n",
    "print('total number of variants that change ensemble: %i in %i proteins'%(N_Re_change,N_Re_change_prots))"
   ]
  },
  {
   "cell_type": "markdown",
   "id": "7faa7b44-9d0e-40eb-af75-acd0899534db",
   "metadata": {},
   "source": [
    "# histograms of variant Re of different tile lengths\n",
    "\n",
    "dashed histograms are mutants, solid are wildtype tiles. Data shows a broadening of distribution as tile length increases."
   ]
  },
  {
   "cell_type": "code",
   "execution_count": 191,
   "id": "3502b320-8f88-40bb-9fb5-3d3c2f62cae4",
   "metadata": {
    "tags": []
   },
   "outputs": [
    {
     "ename": "SyntaxError",
     "evalue": "invalid syntax (3542833839.py, line 10)",
     "output_type": "error",
     "traceback": [
      "\u001b[1;36m  File \u001b[1;32m\"C:\\Users\\ssukenik\\AppData\\Local\\Temp\\ipykernel_16044\\3542833839.py\"\u001b[1;36m, line \u001b[1;32m10\u001b[0m\n\u001b[1;33m    1114 kinne st. east syracuse\u001b[0m\n\u001b[1;37m         ^\u001b[0m\n\u001b[1;31mSyntaxError\u001b[0m\u001b[1;31m:\u001b[0m invalid syntax\n"
     ]
    }
   ],
   "source": [
    "fig,ax = plt.subplots(figsize=[5,5])\n",
    "bins = np.linspace(20,65,100)\n",
    "colors=plt.cm.rainbow(np.linspace(0,1,8))\n",
    "for i,window in enumerate(['20','25','30','35','40','45','50','60']):\n",
    "    _=ax.hist(data.loc[(data['resDisordered']=='YES'),'mut_Re_avg_'+window],linestyle='--',density=True,bins=bins,histtype='step',color=colors[i],label=window)\n",
    "    _=ax.hist(data.loc[(data['resDisordered']=='YES'),'wt_Re_avg_'+window],density=True,bins=bins,histtype='step',color=colors[i])\n",
    "_=ax.legend(title='tile length',fontsize=8)\n",
    "_=ax.set_xlabel(r'$\\langle R_e \\rangle \\ (\\AA)$')\n",
    "\n",
    "1114 kinne st. east syracuse"
   ]
  },
  {
   "cell_type": "markdown",
   "id": "ec0cc160-9277-4b3c-9b47-292d0231ce95",
   "metadata": {},
   "source": [
    "## Re Volcano plots for different tile lengths"
   ]
  },
  {
   "cell_type": "code",
   "execution_count": null,
   "id": "3e026c9e",
   "metadata": {
    "tags": []
   },
   "outputs": [],
   "source": [
    "fig,ax=plt.subplots(1,8,figsize=[15,5],sharex=True,sharey=True)\n",
    "p_val_max=-np.log10(0.01)\n",
    "colors=plt.cm.rainbow(np.linspace(0,1,8))\n",
    "plt.rcParams.update({'font.size': 5})\n",
    "delta_min = 0\n",
    "\n",
    "for i,window in enumerate(['20','25','30','35','40','45','50','60']):\n",
    "    sliced=data[(data['resDisordered']=='YES')&(data['rev_star']>0)]\n",
    "    N_expand = sliced[(sliced['mut_vs_wt_Re_delta_'+window]>delta_min)&(sliced['mut_vs_wt_Re_pval_'+window+'_adj']>p_val_max)].shape[0]\n",
    "    N_compact = sliced[(sliced['mut_vs_wt_Re_delta_'+window]<-delta_min)&(sliced['mut_vs_wt_Re_pval_'+window+'_adj']>p_val_max)].shape[0]\n",
    "    N_nochange = sliced[(sliced['mut_vs_wt_Re_pval_'+window]<p_val_max)].shape[0]\n",
    "    N_tot = N_expand+N_compact+N_nochange\n",
    "    print('%s-res tiles: no change: %i (%.2f), compacting: %i (%.2f), expanding: %i (%.2f)'%\n",
    "          (window, N_nochange,N_nochange/N_tot,N_compact,N_compact/N_tot,N_expand,N_expand/N_tot))\n",
    "    ax[i].scatter(sliced['mut_vs_wt_Re_delta_'+window],sliced['mut_vs_wt_Re_pval_'+window+'_adj'],\n",
    "                s=1.,alpha=0.01,color=colors[i])\n",
    "    ax[i].plot([-10,10],[1.3,1.3],'--',c='k')\n",
    "    ax[i].text(-3,32,'$N_{res}$ = '+ window,fontsize=16)\n",
    "    ax[i].set_xlabel(r'$\\langle R_{e}^{mut}-R_{e}^{WT} \\rangle \\ (\\AA)$',fontsize=10)\n",
    "ax[0].set_ylabel(r'$-log_{10}\\ (adj. p-value)$',fontsize=10)\n",
    "ax[0].set_ylim(-0.1,35)\n",
    "ax[0].set_xlim(-3,3)"
   ]
  },
  {
   "cell_type": "code",
   "execution_count": null,
   "id": "3d4309c3",
   "metadata": {
    "tags": []
   },
   "outputs": [],
   "source": [
    "fig,ax=plt.subplots(8,1,figsize=[5,15],sharex=True,sharey=True)\n",
    "p_val_max=-np.log10(0.01)\n",
    "colors=plt.cm.rainbow(np.linspace(0,1,8))\n",
    "plt.rcParams.update({'font.size': 10})\n",
    "delta_min = 0\n",
    "bins=np.linspace(-5,5,100)\n",
    "for i,window in enumerate(['20','25','30','35','40','45','50','60']):\n",
    "    sliced=data[(data['resDisordered']=='YES')&(data['rev_star']>0)&(data['mut_vs_wt_Re_pval_'+window]>p_val_max)]\n",
    "    ax[i].hist(sliced['mut_vs_wt_Re_delta_'+window],bins=bins,color=colors[i],log=True)\n",
    "    ax[i].text(0,39000,'$N_{res}$ = '+ window,va='top',ha='center',fontsize=12)\n",
    "    ax[i].plot([0,0],[0.00001,100000],'--',c='k')\n",
    "    ax[i].set_ylim(1,50000)\n",
    "ax[-1].set_xlabel(r'$\\langle R_{e}^{mut}-R_{e}^{WT} \\rangle \\ (\\AA)$',fontsize=10)"
   ]
  },
  {
   "cell_type": "markdown",
   "id": "3361d262-4148-4b86-8662-79bb829df941",
   "metadata": {},
   "source": [
    "## Volcano for Fig. 2B"
   ]
  },
  {
   "cell_type": "code",
   "execution_count": null,
   "id": "feb6ba8d-e843-418d-8edd-6aaee3eefa9a",
   "metadata": {
    "tags": []
   },
   "outputs": [],
   "source": [
    "fig,ax=plt.subplots(figsize=[7,5])\n",
    "window='35'\n",
    "p_val_max=-np.log10(0.05)\n",
    "delta_min = 0\n",
    "plt.rcParams.update({'font.size': 18})\n",
    "\n",
    "# slice and set color\n",
    "sliced=data[(data['resDisordered']=='YES')&(data['rev_star']>0)]\n",
    "sliced['color']='grey'\n",
    "sliced.loc[(sliced['mut_vs_wt_Re_delta_'+window]>delta_min)&(sliced['mut_vs_wt_Re_pval_'+window+'_adj']>p_val_max),'color']='b'\n",
    "sliced.loc[(sliced['mut_vs_wt_Re_delta_'+window]<-delta_min)&(sliced['mut_vs_wt_Re_pval_'+window+'_adj']>p_val_max),'color']='r'\n",
    "\n",
    "# print out counts\n",
    "N_expand = sliced[(sliced['mut_vs_wt_Re_delta_'+window]>delta_min)&(sliced['mut_vs_wt_Re_pval_'+window+'_adj']>p_val_max)].shape[0]\n",
    "N_compact = sliced[(sliced['mut_vs_wt_Re_delta_'+window]<-delta_min)&(sliced['mut_vs_wt_Re_pval_'+window+'_adj']>p_val_max)].shape[0]\n",
    "N_nochange = sliced[(sliced['mut_vs_wt_Re_pval_'+window+'_adj']<p_val_max)].shape[0]\n",
    "N_proteins = len(sliced['upID'].unique())\n",
    "print('total: %i, no change: %i (%.3f), compacting: %i (%.3f), expanding: %i (%.3f)'%\n",
    "      (len(sliced),N_nochange,N_nochange/len(sliced),N_compact,N_compact/len(sliced),N_expand,N_expand/len(sliced)))\n",
    "print('from a total of %i proteins'%N_proteins)\n",
    "\n",
    "# plot volcano\n",
    "ax.scatter(sliced['mut_vs_wt_Re_delta_'+window],sliced['mut_vs_wt_Re_pval_'+window+'_adj'],\n",
    "                s=1,alpha=0.2,color=sliced['color'],edgecolor='k',linewidth=0.1)\n",
    "ax.plot([-4,4],[p_val_max,p_val_max],'--',c='k')\n",
    "ax.plot([0,0],[-1,40],'--',c='k')\n",
    "ax.set_xlim(-4,4)\n",
    "ax.set_ylim(-0.5,30)\n",
    "ax.set_xticks(np.arange(-4,5,1))\n",
    "ax.set_xlabel(r'$\\langle R_e^{mut}\\ -\\  R_e^{WT} \\rangle \\ (\\AA)$',fontsize=20)\n",
    "ax.set_ylabel(r'$-log_{10}\\ (adj. p-value)$',fontsize=20)\n",
    "plt.savefig('volcano.png')\n"
   ]
  },
  {
   "cell_type": "code",
   "execution_count": null,
   "id": "7a3ae167",
   "metadata": {},
   "outputs": [],
   "source": [
    "plt.rcParams.update({'font.size': 18})\n",
    "fig,ax = plt.subplots(figsize=[7,2])\n",
    "bins=np.linspace(-4,4,100)\n",
    "scale=np.linspace(0,1,100)\n",
    "sliced=data[(data['resDisordered']=='YES')&(data['rev_star']>0)&(data['mut_vs_wt_Re_pval_'+window+'_adj']>p_val_max)]\n",
    "n,bins,patches = ax.hist(sliced['mut_vs_wt_Re_delta_'+window],bins=bins,log=True)\n",
    "ax.hist(sliced['mut_vs_wt_Re_delta_'+window],bins=bins,log=True,histtype='step',color='k')\n",
    "# Color the bars based on x-position\n",
    "for i, patch in enumerate(patches):\n",
    "    color = plt.cm.seismic_r(scale[i])  # Use a colormap to map x-position to color\n",
    "    patch.set_facecolor(color)\n",
    "    patch.set_alpha(0.7)\n",
    "    patch.set_edgecolor('k')\n",
    "    patch.set_linewidth(0.4)\n",
    "ax.grid(b=True,lw=0.2)\n",
    "ax.set_yticks([1,10,100,1000,10000])\n",
    "ax.set_xticks(np.arange(-4,5,1))\n",
    "ax.set_xlim(-4,4)\n",
    "ax.set_xlabel(r'$\\langle R_e^{mut}\\ -\\  R_e^{WT} \\rangle \\ (\\AA)$',fontsize=20)\n",
    "ax.set_ylabel('counts',fontsize=20)\n",
    "fig.savefig('dRe_hist.svg')"
   ]
  },
  {
   "cell_type": "markdown",
   "id": "cd891252-044e-46be-ac37-9af593a96b96",
   "metadata": {},
   "source": [
    "## Mutations by type"
   ]
  },
  {
   "cell_type": "code",
   "execution_count": null,
   "id": "4e69354d-19c7-43b8-b89a-55ee844993e0",
   "metadata": {
    "tags": []
   },
   "outputs": [],
   "source": [
    "types = pd.DataFrame(index=data['changeType'].unique(),columns=['disordered','all','folded'])\n",
    "changetypes=['none','pos>|>neg','neg>|>pos','>aro','>pro','>polar','>apolar']\n",
    "fig,ax = plt.subplots(figsize=[8,5])\n",
    "for i,changeType in enumerate(changetypes):\n",
    "    sliced = data[data['changeType'].str.contains(changeType)]\n",
    "    N_all = sliced.shape[0]\n",
    "    N_folded = sliced[sliced['resDisordered']=='NO'].shape[0]\n",
    "    N_disordered_compact = sliced[(sliced['resDisordered']=='YES')&(sliced['mut_vs_wt_Re_delta_30']<0)&(sliced['mut_vs_wt_Re_pval_30_adj']>1.3)].shape[0]\n",
    "    N_disordered_expand = sliced[(sliced['resDisordered']=='YES')&(sliced['mut_vs_wt_Re_delta_30']>0)&(sliced['mut_vs_wt_Re_pval_30_adj']>1.3)].shape[0]\n",
    "    N_disordered_nochange = sliced[(sliced['resDisordered']=='YES')&(sliced['mut_vs_wt_Re_pval_30_adj']<1.3)].shape[0]\n",
    "#   print('all: %i, folded: %i, disordered: %i'%(N_all,N_folded,N_disordered_compact+N_disordered_nochange))\n",
    "    #ax.bar(i-0.3,N_all,width=0.2)\n",
    "    ax.text(i,0.7,str(N_all),ha='center',fontsize=12)\n",
    "    ax.bar(i-0.15,N_folded/N_all,width=0.2,color='lightgrey',edgecolor='k',label='folded regions')\n",
    "    ax.bar(i+0.15,N_disordered_compact/N_all,width=0.2,color='red',edgecolor='k',label='disordered regions - compacting')\n",
    "    ax.bar(i+0.15,N_disordered_nochange/N_all,bottom=(N_disordered_compact)/N_all,width=0.2,color='grey',edgecolor='k',label='disordered regions - no change')\n",
    "    ax.bar(i+0.15,N_disordered_expand/N_all,bottom=(N_disordered_nochange+N_disordered_compact)/N_all,width=0.2,color='blue',edgecolor='k',label='disordered regions - expanding')\n",
    "    if i==0:\n",
    "        ax.legend(bbox_to_anchor=(1.05, 1), loc='upper left')\n",
    "        \n",
    "ax.set_xticks(np.arange(i+1))\n",
    "ax.set_xticklabels(['none','more\\nneg','more\\npos','more\\naro','more\\npro','more\\npolar','more\\napolar'],fontsize=16)\n",
    "ax.set_xlabel('resulting chemical change')\n",
    "_=ax.set_ylabel('fraction of\\nmissense variants in...')\n",
    "ax.tick_params(axis='x', top=True, bottom=True, labelbottom=True)\n",
    "plt.savefig('missense_changes.svg')"
   ]
  },
  {
   "cell_type": "markdown",
   "id": "7d3e552a-da33-4fe7-ad0c-3ccfe7b401dc",
   "metadata": {},
   "source": [
    "# Output for GO onthology\n",
    "\n",
    "The text files written here are used to feed into G:Profiler https://biit.cs.ut.ee/gprofiler/gost\n",
    "all.txt is used as the background for enrichment."
   ]
  },
  {
   "cell_type": "code",
   "execution_count": null,
   "id": "b7a0027a-7f4c-4c0d-8d90-177b1269a310",
   "metadata": {
    "tags": []
   },
   "outputs": [],
   "source": [
    "Re_all_prots = data[(data['resDisordered']=='YES')]['upID'].unique()\n",
    "Re_compact_prots = data[(data['resDisordered']=='YES')&(data['mut_vs_wt_Re_delta_30']<-1.5)&(data['mut_vs_wt_Re_pval_35_adj']>1.3)]['upID'].unique()\n",
    "Re_expand_prots = data[(data['resDisordered']=='YES')&(data['mut_vs_wt_Re_delta_30']>1.5)&(data['mut_vs_wt_Re_pval_35_adj']>1.3)]['upID'].unique()\n",
    "\n",
    "np.savetxt('compact.txt', Re_compact_prots, delimiter=',',fmt='%s') \n",
    "np.savetxt('expand.txt', Re_expand_prots, delimiter=',',fmt='%s') \n",
    "np.savetxt('all.txt', Re_all_prots, delimiter=',',fmt='%s')"
   ]
  }
 ],
 "metadata": {
  "kernelspec": {
   "display_name": "Python 3 (ipykernel)",
   "language": "python",
   "name": "python3"
  },
  "language_info": {
   "codemirror_mode": {
    "name": "ipython",
    "version": 3
   },
   "file_extension": ".py",
   "mimetype": "text/x-python",
   "name": "python",
   "nbconvert_exporter": "python",
   "pygments_lexer": "ipython3",
   "version": "3.9.13"
  }
 },
 "nbformat": 4,
 "nbformat_minor": 5
}
